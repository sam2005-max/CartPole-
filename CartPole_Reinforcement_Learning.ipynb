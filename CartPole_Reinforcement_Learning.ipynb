{
  "nbformat": 4,
  "nbformat_minor": 0,
  "metadata": {
    "colab": {
      "provenance": [],
      "authorship_tag": "ABX9TyNi/HCA/V+HptK2osjPbhP3",
      "include_colab_link": true
    },
    "kernelspec": {
      "name": "python3",
      "display_name": "Python 3"
    },
    "language_info": {
      "name": "python"
    }
  },
  "cells": [
    {
      "cell_type": "markdown",
      "metadata": {
        "id": "view-in-github",
        "colab_type": "text"
      },
      "source": [
        "<a href=\"https://colab.research.google.com/github/sam2005-max/CartPole-/blob/main/CartPole_Reinforcement_Learning.ipynb\" target=\"_parent\"><img src=\"https://colab.research.google.com/assets/colab-badge.svg\" alt=\"Open In Colab\"/></a>"
      ]
    },
    {
      "cell_type": "code",
      "source": [
        "!pip install tflearn\n",
        "!pip install gym[classic_control]"
      ],
      "metadata": {
        "colab": {
          "base_uri": "https://localhost:8080/"
        },
        "id": "q0UyZPFqDr_-",
        "outputId": "d3617144-f205-4788-e184-473df9788a2e"
      },
      "execution_count": null,
      "outputs": [
        {
          "output_type": "stream",
          "name": "stdout",
          "text": [
            "Looking in indexes: https://pypi.org/simple, https://us-python.pkg.dev/colab-wheels/public/simple/\n",
            "Collecting tflearn\n",
            "  Downloading tflearn-0.5.0.tar.gz (107 kB)\n",
            "\u001b[2K     \u001b[90m━━━━━━━━━━━━━━━━━━━━━━━━━━━━━━━━━━━━━━━\u001b[0m \u001b[32m107.3/107.3 KB\u001b[0m \u001b[31m3.5 MB/s\u001b[0m eta \u001b[36m0:00:00\u001b[0m\n",
            "\u001b[?25h  Preparing metadata (setup.py) ... \u001b[?25l\u001b[?25hdone\n",
            "Requirement already satisfied: numpy in /usr/local/lib/python3.8/dist-packages (from tflearn) (1.21.6)\n",
            "Requirement already satisfied: six in /usr/local/lib/python3.8/dist-packages (from tflearn) (1.15.0)\n",
            "Requirement already satisfied: Pillow in /usr/local/lib/python3.8/dist-packages (from tflearn) (7.1.2)\n",
            "Building wheels for collected packages: tflearn\n",
            "  Building wheel for tflearn (setup.py) ... \u001b[?25l\u001b[?25hdone\n",
            "  Created wheel for tflearn: filename=tflearn-0.5.0-py3-none-any.whl size=127299 sha256=084d8ed85a2bec127df03c50d852583bc6bc0e337a6b01a1b9feecb4a0acdf41\n",
            "  Stored in directory: /root/.cache/pip/wheels/65/9b/15/cb1e6b279c14ed897530d15cfd7da8e3df8a947e593f5cfe59\n",
            "Successfully built tflearn\n",
            "Installing collected packages: tflearn\n",
            "Successfully installed tflearn-0.5.0\n"
          ]
        }
      ]
    },
    {
      "cell_type": "code",
      "source": [
        "import gym\n",
        "import time\n",
        "import tensorflow as tf\n",
        "import tflearn\n",
        "import numpy as np\n",
        "import matplotlib\n",
        "import seaborn as sns\n",
        "import matplotlib.pyplot as plt\n",
        "import tensorflow.compat.v1 as tf\n",
        "tf.disable_v2_behavior()\n",
        "import random\n",
        "import torch\n",
        "import torchvision\n",
        "from IPython.display import clear_output\n",
        "from IPython.display import display\n",
        "from sys import exit\n",
        "import pygame\n",
        "from pygame.locals import *\n",
        "%matplotlib inline\n"
      ],
      "metadata": {
        "id": "8Z1LHvgxDf9n"
      },
      "execution_count": null,
      "outputs": []
    },
    {
      "cell_type": "code",
      "source": [
        "env = gym.make(\"CartPole-v0\")"
      ],
      "metadata": {
        "colab": {
          "base_uri": "https://localhost:8080/"
        },
        "id": "eku-NQsRDgbL",
        "outputId": "f96f72e3-6d2b-4276-80cf-ac5716147b60"
      },
      "execution_count": null,
      "outputs": [
        {
          "output_type": "stream",
          "name": "stderr",
          "text": [
            "/usr/local/lib/python3.8/dist-packages/gym/envs/registration.py:593: UserWarning: \u001b[33mWARN: The environment CartPole-v0 is out of date. You should consider upgrading to version `v1`.\u001b[0m\n",
            "  logger.warn(\n",
            "/usr/local/lib/python3.8/dist-packages/gym/core.py:317: DeprecationWarning: \u001b[33mWARN: Initializing wrapper in old step API which returns one bool instead of two. It is recommended to set `new_step_api=True` to use new step API. This will be the default behaviour in future.\u001b[0m\n",
            "  deprecation(\n",
            "/usr/local/lib/python3.8/dist-packages/gym/wrappers/step_api_compatibility.py:39: DeprecationWarning: \u001b[33mWARN: Initializing environment in old step API which returns one bool instead of two. It is recommended to set `new_step_api=True` to use new step API. This will be the default behaviour in future.\u001b[0m\n",
            "  deprecation(\n"
          ]
        }
      ]
    },
    {
      "cell_type": "code",
      "source": [
        "observation = tflearn.input_data(shape=[None, 4])\n",
        "net = tflearn.fully_connected(observation, 256, activation=\"relu\")\n",
        "net = tflearn.fully_connected(net, 256, activation=\"relu\")\n",
        "net = tflearn.fully_connected(net, 256, activation=\"relu\")\n",
        "out = tflearn.fully_connected(net, 2, activation=\"softmax\")\n",
        "\n",
        "reward_holder = tf.placeholder(tf.float32, [None])\n",
        "action_holder = tf.placeholder(tf.int32, [None])\n",
        "\n",
        "responsible_outputs = tf.gather(tf.reshape(out, [-1]), tf.range(0, tf.shape(out)[0] * tf.shape(out)[1], 2) + action_holder)\n",
        "\n",
        "loss = -tf.reduce_mean(tf.log(responsible_outputs) * reward_holder)\n",
        "\n",
        "optimizer = tf.train.AdamOptimizer()\n",
        "update = optimizer.minimize(loss)"
      ],
      "metadata": {
        "id": "x6uEzVh8Dy0t"
      },
      "execution_count": null,
      "outputs": []
    },
    {
      "cell_type": "code",
      "source": [
        "gamma = 0.99\n",
        "\n",
        "def discount_reward(rewards):\n",
        "    running_reward = 0\n",
        "    result = np.zeros_like(rewards)\n",
        "    for i in reversed(range(len(rewards))):\n",
        "        result[i] = rewards[i] + gamma * running_reward\n",
        "        running_reward += rewards[i]\n",
        "    return result\n"
      ],
      "metadata": {
        "id": "8imI93RoD2F-"
      },
      "execution_count": null,
      "outputs": []
    },
    {
      "cell_type": "code",
      "source": [
        "num_episodes = 1500\n",
        "max_time = 200\n",
        "all_rewards = []\n",
        "saver = tf.train.Saver()\n",
        "train_data = []\n",
        "\n",
        "with tf.Session() as sess:\n",
        "    sess.run(tf.global_variables_initializer())\n",
        "    for i in range(num_episodes):\n",
        "        obs = env.reset()\n",
        "        episode_reward = 0\n",
        "        ep_history = []\n",
        "        for j in range(max_time):\n",
        "            #Choose an action\n",
        "            a_one_hot = sess.run(out, feed_dict={observation: [obs]}).reshape(2)\n",
        "            action = np.random.choice(a_one_hot, p=a_one_hot)\n",
        "            action = np.argmax(a_one_hot == action)\n",
        "            obs1, r, d, _ = env.step(action)\n",
        "            ep_history.append([obs, r, action])\n",
        "            obs = obs1\n",
        "            episode_reward += r\n",
        "            if d == True:\n",
        "                all_rewards.append(episode_reward)\n",
        "                ep_history = np.array(ep_history)\n",
        "                ep_history[:, 1] = discount_reward(ep_history[:, 1])\n",
        "                train_data.extend(ep_history)\n",
        "                if i % 10 == 0 and i != 0:\n",
        "                    train_data = np.array(train_data)\n",
        "                    sess.run(update, feed_dict={observation: np.vstack(train_data[:, 0]),\n",
        "                                                    reward_holder: train_data[:, 1],\n",
        "                                                    action_holder: train_data[:, 2]})\n",
        "                    train_data = []\n",
        "                break\n",
        "                \n",
        "        if i % 100 == 0 and i != 0:\n",
        "            print(np.mean(all_rewards[-100:]))\n",
        "            if np.mean(all_rewards[-100:]) == 200:\n",
        "                break\n",
        "            \n",
        "    saver.save(sess, \"/tmp/model.ckpt\")"
      ],
      "metadata": {
        "colab": {
          "base_uri": "https://localhost:8080/"
        },
        "id": "wh1HHvWREVU7",
        "outputId": "67ad7572-c365-4311-f27f-60d8e10760f6"
      },
      "execution_count": null,
      "outputs": [
        {
          "output_type": "stream",
          "name": "stderr",
          "text": [
            "<ipython-input-84-62751061a831>:24: VisibleDeprecationWarning: Creating an ndarray from ragged nested sequences (which is a list-or-tuple of lists-or-tuples-or ndarrays with different lengths or shapes) is deprecated. If you meant to do this, you must specify 'dtype=object' when creating the ndarray.\n",
            "  ep_history = np.array(ep_history)\n"
          ]
        },
        {
          "output_type": "stream",
          "name": "stdout",
          "text": [
            "22.41\n",
            "26.17\n",
            "49.91\n",
            "79.11\n",
            "119.59\n",
            "136.18\n",
            "184.15\n"
          ]
        },
        {
          "output_type": "stream",
          "name": "stderr",
          "text": [
            "WARNING:tensorflow:Issue encountered when serializing data_preprocessing.\n",
            "Type is unsupported, or the types of the items don't match field type in CollectionDef. Note this is a warning and probably safe to ignore.\n",
            "'NoneType' object has no attribute 'name'\n",
            "WARNING:tensorflow:Issue encountered when serializing data_augmentation.\n",
            "Type is unsupported, or the types of the items don't match field type in CollectionDef. Note this is a warning and probably safe to ignore.\n",
            "'NoneType' object has no attribute 'name'\n"
          ]
        },
        {
          "output_type": "stream",
          "name": "stdout",
          "text": [
            "200.0\n"
          ]
        }
      ]
    },
    {
      "cell_type": "code",
      "source": [
        "# Demonstration\n",
        "env = gym.envs.make(\"CartPole-v1\")\n",
        "def get_screen():\n",
        "    ''' Extract one step of the simulation.'''\n",
        "    screen = env.render(mode='rgb_array').transpose((2, 0, 1))\n",
        "    screen = np.ascontiguousarray(screen, dtype=np.float32) / 255.\n",
        "    return torch.from_numpy(screen)\n",
        "num_steps = 2\n",
        "for i in range(num_steps):\n",
        "    clear_output(wait=True)\n",
        "    env.reset()\n",
        "    plt.figure()\n",
        "    plt.imshow(get_screen().cpu().permute(1, 2, 0).numpy(),\n",
        "               interpolation='none')\n",
        "    plt.title('CartPole-v1')\n",
        "    plt.xticks([])\n",
        "    plt.yticks([])\n",
        "    plt.rcParams[\"figure.figsize\"] = (27,8)\n",
        "    # plt.figure(figsize(10,5))\n",
        "    plt.show()\n"
      ],
      "metadata": {
        "colab": {
          "base_uri": "https://localhost:8080/",
          "height": 485
        },
        "id": "UZv8ETNFivII",
        "outputId": "ecb633ca-5c0c-4f70-9d75-ae60e7af584b"
      },
      "execution_count": null,
      "outputs": [
        {
          "output_type": "display_data",
          "data": {
            "text/plain": [
              "<Figure size 1944x576 with 1 Axes>"
            ],
            "image/png": "[encoded data removed]"
          },
          "metadata": {}
        }
      ]
    },
    {
      "cell_type": "code",
      "source": [
        "avg_reward = [np.mean(all_rewards[i-10:i+10]) for i in range(10, len(all_rewards))]\n",
        "var = avg_reward[::1]\n",
        "# plt.plot(ypoints, linestyle = 'dotted')\n",
        "plt.plot(var)\n",
        "plt.rcParams[\"figure.figsize\"] = (27,8)\n",
        "plt.show()"
      ],
      "metadata": {
        "colab": {
          "base_uri": "https://localhost:8080/",
          "height": 414
        },
        "id": "BNTCAQJCEb0n",
        "outputId": "ffb9864e-3dec-48fc-9058-6501e0381f88"
      },
      "execution_count": null,
      "outputs": [
        {
          "output_type": "display_data",
          "data": {
            "text/plain": [
              "<Figure size 1944x576 with 1 Axes>"
            ],
            "image/png": "[encoded data removed]"
          },
          "metadata": {
            "needs_background": "light"
          }
        }
      ]
    },
    {
      "cell_type": "code",
      "source": [
        "max_time = 200\n",
        "saver = tf.train.Saver()\n",
        "    \n",
        "with tf.Session() as sess:\n",
        "    saver.restore(sess, \"/tmp/model.ckpt\")\n",
        "    #Show the results\n",
        "    for i in range(10):\n",
        "        obs = env.reset()\n",
        "        episode_reward = 0\n",
        "        for j in range(max_time):\n",
        "            #Choose an action\n",
        "            a_one_hot = sess.run(out, feed_dict={observation: [obs]}).reshape(2)\n",
        "            action = np.random.choice(a_one_hot, p=a_one_hot)\n",
        "            action = np.argmax(a_one_hot == action)\n",
        "            # env.render()\n",
        "            time.sleep(0.005)\n",
        "            obs, r, d, _ = env.step(action)\n",
        "            episode_reward += r\n",
        "            if d == True:\n",
        "                break\n",
        "        print(episode_reward)"
      ],
      "metadata": {
        "colab": {
          "base_uri": "https://localhost:8080/"
        },
        "id": "NnzApiMUFPCf",
        "outputId": "d98fb02f-9721-4ec9-d1e1-88de43a5b602"
      },
      "execution_count": null,
      "outputs": [
        {
          "output_type": "stream",
          "name": "stdout",
          "text": [
            "200.0\n",
            "188.0\n",
            "200.0\n",
            "200.0\n",
            "200.0\n",
            "200.0\n",
            "200.0\n",
            "200.0\n",
            "200.0\n",
            "197.0\n"
          ]
        }
      ]
    },
    {
      "cell_type": "code",
      "source": [],
      "metadata": {
        "id": "W6qPoIlSqm29"
      },
      "execution_count": null,
      "outputs": []
    }
  ]
}